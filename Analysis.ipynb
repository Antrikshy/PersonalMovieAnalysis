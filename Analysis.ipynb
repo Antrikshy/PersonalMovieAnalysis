{
 "cells": [
  {
   "cell_type": "code",
   "execution_count": null,
   "metadata": {},
   "outputs": [],
   "source": [
    "import sqlite3\n",
    "import pandas\n",
    "import seaborn\n",
    "import matplotlib.pyplot as plt"
   ]
  },
  {
   "cell_type": "markdown",
   "metadata": {},
   "source": [
    "# Setting up user ratings"
   ]
  },
  {
   "cell_type": "code",
   "execution_count": null,
   "metadata": {},
   "outputs": [],
   "source": [
    "my_ratings = pandas.read_csv('ratings.csv')"
   ]
  },
  {
   "cell_type": "code",
   "execution_count": null,
   "metadata": {},
   "outputs": [],
   "source": [
    "# Dropping less clean columns that have cleaner counterparts in downloadable datasets\n",
    "my_ratings.drop(['URL', 'Genres', 'Release Date', 'Directors'], axis=1, inplace=True, errors='ignore')\n",
    "\n",
    "# Renaming columns to match downloadable datasets\n",
    "my_ratings.rename(columns={\n",
    "  'Const': 'tconst',\n",
    "  'Title': 'primaryTitle',\n",
    "  'Your Rating': 'yourRating',\n",
    "  'Date Rated': 'dateRated',\n",
    "  'Title Type': 'titleType',\n",
    "  'IMDb Rating': 'averageRating',\n",
    "  'Num Votes': 'numVotes',\n",
    "  'Runtime (mins)': 'runtimeMinutes'\n",
    "}, inplace=True)"
   ]
  },
  {
   "cell_type": "code",
   "execution_count": null,
   "metadata": {},
   "outputs": [],
   "source": [
    "# From now on, we work with these columns\n",
    "print(my_ratings.columns)\n",
    "\n",
    "# Dropping everything but movies\n",
    "my_ratings = my_ratings[my_ratings['titleType'] == 'movie']\n",
    "print(\"Number of ratings:\", len(my_ratings))"
   ]
  },
  {
   "cell_type": "markdown",
   "metadata": {},
   "source": [
    "# Analysis 0 - Ratings histogram"
   ]
  },
  {
   "cell_type": "markdown",
   "metadata": {},
   "source": [
    "**Computing a baseline of sorts.**\n",
    "\n",
    "This may highlight biases towards specific numbers on the 1 to 10 scale."
   ]
  },
  {
   "cell_type": "code",
   "execution_count": null,
   "metadata": {},
   "outputs": [],
   "source": [
    "seaborn.set(rc = {'figure.figsize': (10,5)})\n",
    "plot = seaborn.countplot(my_ratings['yourRating'], palette='flare')\n",
    "_ = plot.set_xlabel('Rating')\n",
    "_ = plot.set_ylabel('Count')"
   ]
  },
  {
   "cell_type": "markdown",
   "metadata": {},
   "source": [
    "# Analysis 1 - Most and least popular movies"
   ]
  },
  {
   "cell_type": "code",
   "execution_count": null,
   "metadata": {},
   "outputs": [],
   "source": [
    "rfdb = sqlite3.connect('rackfocus_out.db')\n",
    "titles = pandas.read_sql_query('select tconst, startYear as releaseYear from title_basics', rfdb)\n",
    "rfdb.close()"
   ]
  },
  {
   "cell_type": "markdown",
   "metadata": {},
   "source": [
    "## Most popular"
   ]
  },
  {
   "cell_type": "code",
   "execution_count": null,
   "metadata": {},
   "outputs": [],
   "source": [
    "my_ratings.merge(titles, on='tconst').sort_values(by='numVotes', ascending=False).head(15)[['primaryTitle', 'releaseYear', 'numVotes']]"
   ]
  },
  {
   "cell_type": "markdown",
   "metadata": {},
   "source": [
    "## Least popular"
   ]
  },
  {
   "cell_type": "code",
   "execution_count": null,
   "metadata": {},
   "outputs": [],
   "source": [
    "my_ratings.merge(titles, on='tconst').sort_values(by='numVotes', ascending=True).head(15)[['primaryTitle', 'releaseYear', 'numVotes']]"
   ]
  },
  {
   "cell_type": "markdown",
   "metadata": {},
   "source": [
    "## Clearing dataframes"
   ]
  },
  {
   "cell_type": "code",
   "execution_count": null,
   "metadata": {},
   "outputs": [],
   "source": [
    "titles.iloc[0:0]"
   ]
  },
  {
   "cell_type": "markdown",
   "metadata": {},
   "source": [
    "# Analysis 2 - Directors"
   ]
  },
  {
   "cell_type": "code",
   "execution_count": null,
   "metadata": {},
   "outputs": [],
   "source": [
    "rfdb = sqlite3.connect('rackfocus_out.db')\n",
    "names = pandas.read_sql_query('select nconst, primaryName from name_basics', rfdb)\n",
    "title_director = pandas.read_sql_query('select tconst, nconst from title_principals where category=\"director\"', rfdb)\n",
    "rfdb.close()\n",
    "\n",
    "print(names.columns)\n",
    "print(title_director.columns)"
   ]
  },
  {
   "cell_type": "markdown",
   "metadata": {},
   "source": [
    "## \"Favorite\" directors"
   ]
  },
  {
   "cell_type": "code",
   "execution_count": null,
   "metadata": {},
   "outputs": [],
   "source": [
    "my_r_director = my_ratings.merge(title_director, on='tconst')"
   ]
  },
  {
   "cell_type": "markdown",
   "metadata": {},
   "source": [
    "### Cumulative ratings (raw)"
   ]
  },
  {
   "cell_type": "code",
   "execution_count": null,
   "metadata": {},
   "outputs": [],
   "source": [
    "my_r_d_cumscore = my_r_director.groupby('nconst')['yourRating'].sum().reset_index()\n",
    "my_r_d_cumscore_results = my_r_d_cumscore.sort_values(by='yourRating', ascending=False).head(50).merge(names, on='nconst')\n",
    "my_r_d_cumscore_results.rename(columns={\n",
    "  'primaryName': 'Director',\n",
    "  'yourRating': 'Cumulative Score'\n",
    "}, inplace=True)"
   ]
  },
  {
   "cell_type": "code",
   "execution_count": null,
   "metadata": {},
   "outputs": [],
   "source": [
    "seaborn.set(rc = {'figure.figsize': (20,5)})\n",
    "plot = seaborn.barplot(data=my_r_d_cumscore_results, x='Director', y='Cumulative Score', palette='flare_r')\n",
    "_ = plot.set_xticklabels(plot.get_xticklabels(), rotation=45, horizontalalignment='right')"
   ]
  },
  {
   "cell_type": "markdown",
   "metadata": {},
   "source": [
    "### Mean ratings (refined)"
   ]
  },
  {
   "cell_type": "code",
   "execution_count": null,
   "metadata": {},
   "outputs": [],
   "source": [
    "my_r_d_avgscore = my_r_director.groupby('nconst')['yourRating'].mean().reset_index()\n",
    "my_r_d_avgscore_results = my_r_d_avgscore.sort_values(by='yourRating', ascending=False).head(50).merge(names, on='nconst')\n",
    "my_r_d_avgscore_results.rename(columns={\n",
    "  'primaryName': 'Director',\n",
    "  'yourRating': 'Cumulative Score'\n",
    "}, inplace=True)\n",
    "my_r_d_avgscore_results[['Director', 'Cumulative Score']]"
   ]
  },
  {
   "cell_type": "markdown",
   "metadata": {},
   "source": [
    "## Clearing dataframes"
   ]
  },
  {
   "cell_type": "code",
   "execution_count": null,
   "metadata": {},
   "outputs": [],
   "source": [
    "names.iloc[0:0]\n",
    "title_director.iloc[0:0]\n",
    "my_r_director.iloc[0:0]\n",
    "my_r_d_cumscore.iloc[0:0]\n",
    "my_r_d_avgscore.iloc[0:0]\n",
    "my_r_d_cumscore_results.iloc[0:0]\n",
    "my_r_d_avgscore_results.iloc[0:0]"
   ]
  },
  {
   "cell_type": "markdown",
   "metadata": {},
   "source": [
    "# Analysis 3 - Through the years"
   ]
  },
  {
   "cell_type": "code",
   "execution_count": null,
   "metadata": {},
   "outputs": [],
   "source": [
    "rfdb = sqlite3.connect('rackfocus_out.db')\n",
    "titles = pandas.read_sql_query('select tconst, startYear as releaseYear from title_basics where titleType=\"movie\"', rfdb)\n",
    "rfdb.close()"
   ]
  },
  {
   "cell_type": "markdown",
   "metadata": {},
   "source": [
    "## Movie count by release year"
   ]
  },
  {
   "cell_type": "code",
   "execution_count": null,
   "metadata": {},
   "outputs": [],
   "source": [
    "my_r_titles_release_year = my_ratings.merge(titles, on='tconst')\n",
    "my_r_titles_release_year.rename(columns={\n",
    "  'count': 'Count',\n",
    "  'releaseYear': 'Release Year'\n",
    "}, inplace=True)\n",
    "seaborn.set(rc = {'figure.figsize': (20,5)})\n",
    "plot = seaborn.countplot(my_r_titles_release_year['Release Year'], palette='flare')\n",
    "_ = plot.set_xticklabels(plot.get_xticklabels(), rotation=90)"
   ]
  },
  {
   "cell_type": "markdown",
   "metadata": {},
   "source": [
    "**Plotting all movie release years on IMDb**\n",
    "\n",
    "Data could be unclean."
   ]
  },
  {
   "cell_type": "code",
   "execution_count": null,
   "metadata": {},
   "outputs": [],
   "source": [
    "seaborn.set(rc = {'figure.figsize': (30,5)})\n",
    "plot = seaborn.countplot(titles['releaseYear'], palette='flare')\n",
    "_ = plot.set_xticklabels(plot.get_xticklabels(), rotation=90)\n",
    "_ = plot.set_xlabel('Runtime (mins)')"
   ]
  },
  {
   "cell_type": "markdown",
   "metadata": {},
   "source": [
    "## Release year / rating heatmap"
   ]
  },
  {
   "cell_type": "code",
   "execution_count": null,
   "metadata": {},
   "outputs": [],
   "source": [
    "my_r_titles = my_ratings.merge(titles, on='tconst')\n",
    "my_r_titles.rename(columns={\n",
    "  'yourRating': 'Your Rating',\n",
    "  'releaseYear': 'Release Year'\n",
    "}, inplace=True)\n",
    "my_r_release_year = pandas.crosstab(my_r_titles['Your Rating'], my_r_titles['Release Year'])\n",
    "seaborn.set(rc = {'figure.figsize': (20,5)})\n",
    "plot = seaborn.heatmap(my_r_release_year, cbar_kws={'label': 'Count'}, cmap='flare')\n",
    "plot.invert_yaxis()"
   ]
  },
  {
   "cell_type": "markdown",
   "metadata": {},
   "source": [
    "## Clearing dataframes"
   ]
  },
  {
   "cell_type": "code",
   "execution_count": null,
   "metadata": {},
   "outputs": [],
   "source": [
    "my_r_titles_release_year.iloc[0:0]\n",
    "my_r_titles.iloc[0:0]\n",
    "my_r_release_year.iloc[0:0]"
   ]
  },
  {
   "cell_type": "markdown",
   "metadata": {},
   "source": [
    "# Analysis 4 - Ratings by runtime"
   ]
  },
  {
   "cell_type": "code",
   "execution_count": null,
   "metadata": {},
   "outputs": [],
   "source": [
    "rfdb = sqlite3.connect('rackfocus_out.db')\n",
    "titles = pandas.read_sql_query('select tconst, runtimeMinutes from title_basics where titleType=\"movie\"', rfdb)\n",
    "rfdb.close()"
   ]
  },
  {
   "cell_type": "markdown",
   "metadata": {},
   "source": [
    "## Movie count by runtime"
   ]
  },
  {
   "cell_type": "code",
   "execution_count": null,
   "metadata": {},
   "outputs": [],
   "source": [
    "seaborn.set(rc = {'figure.figsize': (20,5)})\n",
    "plot = seaborn.countplot(my_ratings['runtimeMinutes'], palette='flare')\n",
    "_ = plot.set_xticklabels(plot.get_xticklabels(), rotation=90)\n",
    "_ = plot.set_xlabel('Runtime (mins)')"
   ]
  },
  {
   "cell_type": "markdown",
   "metadata": {},
   "source": [
    "**Plotting all movie runtimes on IMDb**\n",
    "\n",
    "I have no explanations for the patterns nor the extremes. Data could be unclean."
   ]
  },
  {
   "cell_type": "code",
   "execution_count": null,
   "metadata": {},
   "outputs": [],
   "source": [
    "seaborn.set(rc = {'figure.figsize': (90,5)})\n",
    "plot = seaborn.countplot(titles['runtimeMinutes'], palette='flare')\n",
    "_ = plot.set_xticklabels(plot.get_xticklabels(), rotation=90)\n",
    "_ = plot.set_xlabel('Runtime (mins)')"
   ]
  },
  {
   "cell_type": "markdown",
   "metadata": {},
   "source": [
    "## Runtime / rating heatmap"
   ]
  },
  {
   "cell_type": "code",
   "execution_count": null,
   "metadata": {},
   "outputs": [],
   "source": [
    "my_r_runtime = pandas.crosstab(my_ratings['yourRating'], my_ratings['runtimeMinutes'])\n",
    "seaborn.set(rc = {'figure.figsize': (20,5)})\n",
    "plot = seaborn.heatmap(my_r_runtime, cbar_kws={'label': 'Count'}, cmap='flare')\n",
    "plot.invert_yaxis()"
   ]
  },
  {
   "cell_type": "markdown",
   "metadata": {},
   "source": [
    "## Clearing dataframes"
   ]
  },
  {
   "cell_type": "code",
   "execution_count": null,
   "metadata": {},
   "outputs": [],
   "source": [
    "titles.iloc[0:0]\n",
    "my_r_runtime.iloc[0:0]"
   ]
  },
  {
   "cell_type": "markdown",
   "metadata": {},
   "source": [
    "# Analysis 5 - Biggest ratings delta"
   ]
  },
  {
   "cell_type": "code",
   "execution_count": null,
   "metadata": {},
   "outputs": [],
   "source": [
    "rfdb = sqlite3.connect('rackfocus_out.db')\n",
    "titles = pandas.read_sql_query('select tconst, startYear as releaseYear from title_basics where titleType=\"movie\"', rfdb)\n",
    "rfdb.close()"
   ]
  },
  {
   "cell_type": "markdown",
   "metadata": {},
   "source": [
    "## \"Overrated\" movies"
   ]
  },
  {
   "cell_type": "code",
   "execution_count": null,
   "metadata": {},
   "outputs": [],
   "source": [
    "my_r_imdb_r_with_delta = my_ratings[['primaryTitle', 'yourRating', 'averageRating']].copy()\n",
    "my_r_imdb_r_with_delta['ratingDelta'] = my_r_imdb_r_with_delta.apply(lambda r: r['averageRating'] - r['yourRating'], axis=1)\n",
    "my_r_imdb_r_with_delta = my_r_imdb_r_with_delta.sort_values(by='ratingDelta', ascending=False).head(50).sort_values(by='averageRating', ascending=False)"
   ]
  },
  {
   "cell_type": "code",
   "execution_count": null,
   "metadata": {},
   "outputs": [],
   "source": [
    "plt.figure(figsize=(20,25))\n",
    "plt.hlines(y=my_r_imdb_r_with_delta['primaryTitle'], xmin=my_r_imdb_r_with_delta['yourRating'], xmax=my_r_imdb_r_with_delta['averageRating'], color='grey')\n",
    "plt.scatter(my_r_imdb_r_with_delta['yourRating'], my_r_imdb_r_with_delta['primaryTitle'], color='#f37651', s=150)\n",
    "plt.scatter(my_r_imdb_r_with_delta['averageRating'], my_r_imdb_r_with_delta['primaryTitle'], color='#ad1759', s=150)\n",
    "plt.xlim(1, 10)\n",
    "plt.xticks(fontsize=16)\n",
    "plt.yticks(fontsize=16)\n",
    "ax = plt.gca()\n",
    "ax.invert_yaxis()"
   ]
  },
  {
   "cell_type": "markdown",
   "metadata": {},
   "source": [
    "## \"Underrated\" movies"
   ]
  },
  {
   "cell_type": "code",
   "execution_count": null,
   "metadata": {},
   "outputs": [],
   "source": [
    "my_r_imdb_r_with_delta = my_ratings[['primaryTitle', 'yourRating', 'averageRating']].copy()\n",
    "my_r_imdb_r_with_delta['ratingDelta'] = my_r_imdb_r_with_delta.apply(lambda r: r['yourRating'] - r['averageRating'], axis=1)\n",
    "my_r_imdb_r_with_delta = my_r_imdb_r_with_delta.sort_values(by='ratingDelta', ascending=False).head(50).sort_values(by='averageRating', ascending=False)"
   ]
  },
  {
   "cell_type": "code",
   "execution_count": null,
   "metadata": {},
   "outputs": [],
   "source": [
    "plt.figure(figsize=(20,25))\n",
    "plt.hlines(y=my_r_imdb_r_with_delta['primaryTitle'], xmin=my_r_imdb_r_with_delta['yourRating'], xmax=my_r_imdb_r_with_delta['averageRating'], color='grey')\n",
    "plt.scatter(my_r_imdb_r_with_delta['yourRating'], my_r_imdb_r_with_delta['primaryTitle'], color='#f37651', s=150)\n",
    "plt.scatter(my_r_imdb_r_with_delta['averageRating'], my_r_imdb_r_with_delta['primaryTitle'], color='#ad1759', s=150)\n",
    "plt.xlim(1, 10)\n",
    "plt.xticks(fontsize=16)\n",
    "plt.yticks(fontsize=16)\n",
    "ax = plt.gca()"
   ]
  },
  {
   "cell_type": "code",
   "execution_count": null,
   "metadata": {},
   "outputs": [],
   "source": [
    "titles.iloc[0:0]\n",
    "my_r_imdb_r_with_delta.iloc[0:0]"
   ]
  }
 ],
 "metadata": {
  "interpreter": {
   "hash": "1afc7aed44e00a57170ede494fa2914e692c21f1d61fcf366ab6f9ce28c405d5"
  },
  "kernelspec": {
   "display_name": "Python 3.9.10 ('venv': venv)",
   "language": "python",
   "name": "python3"
  },
  "language_info": {
   "codemirror_mode": {
    "name": "ipython",
    "version": 3
   },
   "file_extension": ".py",
   "mimetype": "text/x-python",
   "name": "python",
   "nbconvert_exporter": "python",
   "pygments_lexer": "ipython3",
   "version": "3.9.10"
  },
  "orig_nbformat": 4
 },
 "nbformat": 4,
 "nbformat_minor": 2
}
